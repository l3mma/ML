{
  "nbformat": 4,
  "nbformat_minor": 0,
  "metadata": {
    "colab": {
      "provenance": []
    },
    "kernelspec": {
      "name": "python3",
      "display_name": "Python 3"
    },
    "language_info": {
      "name": "python"
    }
  },
  "cells": [
    {
      "cell_type": "code",
      "execution_count": 5,
      "metadata": {
        "colab": {
          "base_uri": "https://localhost:8080/"
        },
        "id": "kj9HDdtiQtVr",
        "outputId": "6eae6f0c-7206-4e0e-a9a8-520badb7b7b1"
      },
      "outputs": [
        {
          "output_type": "stream",
          "name": "stdout",
          "text": [
            "[-2.49889494  0.50287711  0.19713216 -0.05004654]\n",
            "Средний показатель качества: 0.020306, среднее скользящее экспоненциональное: 0.020299\n"
          ]
        }
      ],
      "source": [
        "import numpy as np\n",
        "\n",
        "def func(x):\n",
        "    return 0.5 * x + 0.2 * x**2 - 0.05 * x**3 + 0.2 * np.sin(4 * x) - 2.5\n",
        "\n",
        "coord_x = np.arange(-4.0, 6.0, 0.1)\n",
        "coord_y = func(coord_x)\n",
        "\n",
        "feat = np.column_stack((np.ones_like(coord_x), coord_x, coord_x**2, coord_x**3))\n",
        "\n",
        "sz = len(coord_x)\n",
        "batch_size = 50\n",
        "eta = np.array([0.1, 0.01, 0.001, 0.0001])\n",
        "w = np.zeros(4)\n",
        "N = 500\n",
        "lm = 0.02\n",
        "Qe = np.mean((feat @ w - coord_y) ** 2)\n",
        "np.random.seed(0)\n",
        "\n",
        "for i in range(N):\n",
        "    idx = np.random.choice(sz, batch_size, replace=False)\n",
        "    x_batch = feat[idx]\n",
        "    y_batch = coord_y[idx]\n",
        "\n",
        "    predictions = x_batch @ w\n",
        "    errors = predictions - y_batch\n",
        "\n",
        "    grad = (2 / batch_size) * (x_batch.T @ errors)\n",
        "    for j in range(len(w)):\n",
        "        w[j] -= eta[j] * grad[j]\n",
        "\n",
        "    Lk = np.mean(errors ** 2)\n",
        "    Qe = lm * Lk + (1 - lm) * Qe\n",
        "\n",
        "predictions = feat @ w\n",
        "Q = np.mean((predictions - coord_y) ** 2)\n",
        "print(w)\n",
        "print(f\"Средний показатель качества: {round(Q,6)}, среднее скользящее экспоненциональное: {round(Qe, 6)}\")"
      ]
    },
    {
      "cell_type": "markdown",
      "source": [],
      "metadata": {
        "id": "egvDN5_9QugV"
      }
    }
  ]
}