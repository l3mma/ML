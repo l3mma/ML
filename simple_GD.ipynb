{
  "nbformat": 4,
  "nbformat_minor": 0,
  "metadata": {
    "colab": {
      "provenance": []
    },
    "kernelspec": {
      "name": "python3",
      "display_name": "Python 3"
    },
    "language_info": {
      "name": "python"
    }
  },
  "cells": [
    {
      "cell_type": "markdown",
      "source": [
        "Приблизить исходную ф-цию ф-цией вида $a(x) = w_0 + w_1 \\cdot x + w_2 \\cdot x^2 + w_3 \\cdot x^3$\n",
        "\n",
        "![image (4).png](data:image/png;base64,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)\n",
        "\n",
        "1.   Минимизируем лосс по методу наименьших квадратов\n",
        "2.   Меняем знак градиента, т.к. алгоритм идет против направления градиента.\n",
        "\n",
        "\n"
      ],
      "metadata": {
        "id": "ncOv2Fv6NbCs"
      }
    },
    {
      "cell_type": "markdown",
      "source": [],
      "metadata": {
        "id": "DAXkHx1JOxPZ"
      }
    },
    {
      "cell_type": "code",
      "source": [
        "import numpy as np\n",
        "\n",
        "# исходная функция, которую нужно аппроксимировать моделью a(x)\n",
        "def func(x):\n",
        "    return 0.1 * x**2 - np.sin(x) + 5.\n",
        "\n",
        "\n",
        "def model(x, w):\n",
        "    return w[0] + w[1] * x + w[2] * x**2 + w[3] * x**3\n",
        "\n",
        "\n",
        "coord_x = np.arange(-5.0, 5.0, 0.1) # значения по оси абсцисс [-5; 5] с шагом 0.1\n",
        "coord_y = func(coord_x) # значения функции по оси ординат\n",
        "\n",
        "sz = len(coord_x)\t# количество значений функций (точек)\n",
        "eta = np.array([0.1, 0.01, 0.001, 0.0001]) # шаг обучения для каждого параметра w0, w1, w2, w3\n",
        "w = np.array([0., 0., 0., 0.]) # начальные значения параметров модели\n",
        "N = 200 # число итераций градиентного алгоритма\n",
        "\n",
        "def compute_gradient(X, y, w, eta):\n",
        "    n = len(X)\n",
        "    grad_sum = np.zeros(4)\n",
        "    for i in range(n):\n",
        "        xi = np.array([1, X[i], X[i]**2, X[i]**3])\n",
        "        ai = model(X[i], w)\n",
        "        error = ai - y[i]\n",
        "        grad_sum += error * xi\n",
        "    return (2/n) * grad_sum\n",
        "\n",
        "\n",
        "for i in range(N):\n",
        "    gradient = compute_gradient(coord_x, coord_y, w, eta)\n",
        "    w -= eta * gradient\n",
        "\n",
        "Q = np.mean((model(coord_x, w) - coord_y)**2)\n",
        "w"
      ],
      "metadata": {
        "colab": {
          "base_uri": "https://localhost:8080/"
        },
        "id": "qHVvPivlOWL3",
        "outputId": "8c90f93f-9bf6-46ff-d7cd-1fe5d09afa54"
      },
      "execution_count": 1,
      "outputs": [
        {
          "output_type": "execute_result",
          "data": {
            "text/plain": [
              "array([ 4.98645739, -0.41780964,  0.10273088,  0.0317247 ])"
            ]
          },
          "metadata": {},
          "execution_count": 1
        }
      ]
    }
  ]
}